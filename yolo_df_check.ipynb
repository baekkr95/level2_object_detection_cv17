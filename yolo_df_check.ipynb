{
 "cells": [
  {
   "cell_type": "markdown",
   "metadata": {},
   "source": [
    "- YOLO 모델로 inference 후 csv 파일을 확인해보니 예측이 아예 안 된 test img가 있다.\n",
    "- 원래 csv 파일의 길이가 4871이 되어야 하는데, 개수가 모자른 것을 확인함\n",
    "- 개수가 부족하면 앙상블이 안 되기 때문에 공백으로라도 채우려고 함"
   ]
  },
  {
   "cell_type": "code",
   "execution_count": 32,
   "metadata": {
    "vscode": {
     "languageId": "python"
    }
   },
   "outputs": [
    {
     "name": "stdout",
     "output_type": "stream",
     "text": [
      "4871\n"
     ]
    },
    {
     "data": {
      "text/plain": [
       "[]"
      ]
     },
     "execution_count": 32,
     "metadata": {},
     "output_type": "execute_result"
    }
   ],
   "source": [
    "import pandas as pd\n",
    "\n",
    "file_name = '/opt/ml/yolov5/fold_5_yolo.csv'\n",
    "\n",
    "df=pd.read_csv(file_name)\n",
    "print(len(df))\n",
    "\n",
    "id_list = list(df['image_id'])\n",
    "no_num_list = []\n",
    "\n",
    "\n",
    "for i in range(len(df)-1):\n",
    "    \n",
    "    if int(id_list[i+1].split('/')[1].split('.')[0]) != int(id_list[i].split('/')[1].split('.')[0]) + 1:\n",
    "\n",
    "        no_num_list.append(int(id_list[i].split('/')[1].split('.')[0])+1)\n",
    "\n",
    "\n",
    "# 해당 번호를 아예 예측을 안해서 개수가 부족함\n",
    "no_num_list"
   ]
  },
  {
   "cell_type": "code",
   "execution_count": 33,
   "metadata": {
    "vscode": {
     "languageId": "python"
    }
   },
   "outputs": [],
   "source": [
    "# 1자리, 2자리, 3자리 수면 앞에 0을 붙여야 됨\n",
    "\n",
    "add_list = []\n",
    "\n",
    "for i in no_num_list:\n",
    "    add_zero = ''\n",
    "\n",
    "    if len(str(i)) == 1:\n",
    "        add_zero = '000' + str(i)\n",
    "\n",
    "    elif len(str(i)) == 2:\n",
    "        add_zero = '00' + str(i)\n",
    "\n",
    "    elif len(str(i)) == 3:\n",
    "        add_zero = '0' + str(i)\n",
    "\n",
    "    else:\n",
    "        add_zero = str(i)\n",
    "\n",
    "    add_list.append(add_zero)"
   ]
  },
  {
   "cell_type": "code",
   "execution_count": 34,
   "metadata": {
    "vscode": {
     "languageId": "python"
    }
   },
   "outputs": [],
   "source": [
    "# 예측을 안 한 곳에 공백과 img 번호를 삽입\n",
    "for i in add_list:\n",
    "    new_data = {\n",
    "        'PredictionString' : '',\n",
    "        'image_id' : f'test/{i}.jpg'\n",
    "    }\n",
    "    \n",
    "    idx = int(i) ## 원하는 인덱스\n",
    "    \n",
    "    temp1 = df[df.index < idx]\n",
    "    temp2 = df[df.index >= idx]\n",
    "    df = temp1.append(new_data,ignore_index=True).append(temp2, ignore_index=True)"
   ]
  },
  {
   "cell_type": "code",
   "execution_count": 35,
   "metadata": {
    "vscode": {
     "languageId": "python"
    }
   },
   "outputs": [
    {
     "data": {
      "text/plain": [
       "4871"
      ]
     },
     "execution_count": 35,
     "metadata": {},
     "output_type": "execute_result"
    }
   ],
   "source": [
    "len(df)\n",
    "\n",
    "### 4871이 나오면 정상!!"
   ]
  },
  {
   "cell_type": "code",
   "execution_count": 36,
   "metadata": {
    "vscode": {
     "languageId": "python"
    }
   },
   "outputs": [],
   "source": [
    "# 앙상블 할 폴더에 저장\n",
    "df.to_csv(file_name, index=False)"
   ]
  },
  {
   "cell_type": "code",
   "execution_count": null,
   "metadata": {
    "vscode": {
     "languageId": "python"
    }
   },
   "outputs": [],
   "source": []
  }
 ],
 "metadata": {
  "kernelspec": {
   "display_name": "detection",
   "language": "python",
   "name": "detection"
  },
  "orig_nbformat": 4
 },
 "nbformat": 4,
 "nbformat_minor": 2
}
